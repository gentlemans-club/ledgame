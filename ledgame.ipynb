{
 "cells": [
  {
   "cell_type": "code",
   "execution_count": 1,
   "metadata": {},
   "outputs": [],
   "source": [
    "from __future__ import print_function\n",
    "from ipywidgets import interact, interactive, fixed, interact_manual\n",
    "import ipywidgets as widgets\n",
    "import matplotlib.pyplot as plt\n",
    "import numpy as np"
   ]
  },
  {
   "cell_type": "markdown",
   "metadata": {},
   "source": [
    "# ledgame\n",
    "\n",
    "`ledgame` is a game focusing on puzzles and labyrinth exploration using the 8x8 LED display on the [Sense HAT](https://www.raspberrypi.org/products/sense-hat/) module for the Raspberry Pi. \n",
    "To control the character within the game, the player uses the control stick also present on the Sense Hat module. \n",
    "The game's levels are PNG images which are parsed, and each pixel in the image becomes a cell within the game.\n",
    "\n",
    "Certain pixels in the PNG images, when parsed, result in certain mechanics that have been implemented:\n",
    "\n",
    "* Black pixels become floors\n",
    "* White pixels become walls\n",
    "* Blue pixels become the player\n",
    "    * **Note:** If several blue pixels exists in an image, a random blue pixel is selected as the player's start position\n",
    "* Gold pixels become gold coins which the player must pick up to clear the level\n",
    "* Brown pixels become teleports which ports the player to another teleport when stepped on\n",
    "    * **Note:** If several brown pixels exists in a stage, teleports work in a circle. This means that upon teleporting, the player gets teleported to the next teleporter. Then, upon stepping on the exit teleporter, the player gets teleported to the next in line. \n",
    "* Gray pixels become boxes which the player can push around\n",
    "* Green pixels become keys which the player can pick up\n",
    "* Purple pixels become doors which are locked until a player tries to unlock it while holding at least one key\n",
    "\n",
    "We can have a look at the specific colours defined in `ledgame`."
   ]
  },
  {
   "cell_type": "code",
   "execution_count": 2,
   "metadata": {},
   "outputs": [
    {
     "data": {
      "image/png": "[encoded data removed]",
      "text/plain": [
       "<Figure size 864x648 with 8 Axes>"
      ]
     },
     "metadata": {
      "needs_background": "light"
     },
     "output_type": "display_data"
    }
   ],
   "source": [
    "import ledgame\n",
    "\n",
    "colors = [ledgame.BLACK, ledgame.WHITE, ledgame.BLUE, ledgame.GOLD, \n",
    "    ledgame.BROWN, ledgame.GRAY, ledgame.GREEN, ledgame.PURPLE]\n",
    "labels = [\"Floor\", \"Wall\", \"Player\", \"Coin\", \n",
    "    \"Teleport\", \"Box\", \"Key\", \"Door\"]\n",
    "\n",
    "plt.figure(figsize=(12, 9))\n",
    "\n",
    "for i in range(len(colors)):\n",
    "    plt.subplot(3, 4, i+1)\n",
    "    \n",
    "    plt.imshow(np.array(colors[i]).reshape((1, 1, 3)), interpolation=\"none\")\n",
    "    plt.text(-0.4,-0.35, labels[i], bbox={'facecolor': 'white', 'pad': 10})\n",
    "\n",
    "plt.show()"
   ]
  },
  {
   "cell_type": "markdown",
   "metadata": {},
   "source": [
    "## Developing on the computer\n",
    "\n",
    "TODO, talk about why we created notpi :)"
   ]
  },
  {
   "cell_type": "code",
   "execution_count": 3,
   "metadata": {},
   "outputs": [],
   "source": [
    "from ledgame.character import Character\n",
    "from ledgame.world import World\n",
    "from notpi import NotPi\n",
    "from os import path, listdir\n",
    "\n",
    "pi = NotPi(init_pygame=False)\n",
    "basepath = path.dirname(path.abspath(ledgame.__file__))\n",
    "enabled_levels = path.join(basepath, \"levels\", \"enabled\")\n",
    "worlds = [\n",
    "    file for file \n",
    "    in listdir(enabled_levels) \n",
    "    if path.isfile(path.join(enabled_levels, file))\n",
    "]\n",
    "world_number = 0"
   ]
  },
  {
   "cell_type": "code",
   "execution_count": 4,
   "metadata": {},
   "outputs": [
    {
     "data": {
      "image/png": "[encoded data removed]",
      "text/plain": [
       "<Figure size 432x288 with 1 Axes>"
      ]
     },
     "metadata": {
      "needs_background": "light"
     },
     "output_type": "display_data"
    }
   ],
   "source": [
    "def get_level(filename):\n",
    "    return path.join(enabled_levels, filename)\n",
    "\n",
    "def set_level(world_number, char):\n",
    "    char.total_gold += char.gold\n",
    "    world = World(get_level(worlds[world_number]))\n",
    "    char.start(world.player_start)\n",
    "    return world\n",
    "\n",
    "def draw(char):\n",
    "    view = world.view(char)\n",
    "    pi.set_pixels(view)\n",
    "    pi.set_pixel(3, 4, char.color)\n",
    "    pixels = np.array(pi.get_pixels())\n",
    "    grid = pixels.reshape((8, 8, 3))\n",
    "    plt.imshow(grid, interpolation=\"none\")\n",
    "    \n",
    "char = Character()\n",
    "world = set_level(world_number, char)\n",
    "draw(char)"
   ]
  },
  {
   "cell_type": "code",
   "execution_count": 5,
   "metadata": {},
   "outputs": [
    {
     "data": {
      "application/vnd.jupyter.widget-view+json": {
       "model_id": "ebd000afc24349af82155864dbee5f3d",
       "version_major": 2,
       "version_minor": 0
      },
      "text/plain": [
       "Button(description='Go right!', style=ButtonStyle())"
      ]
     },
     "metadata": {},
     "output_type": "display_data"
    }
   ],
   "source": [
    "# if we move the character, right we can see the view shifts to the left\n",
    "button = widgets.Button(description=\"Go right!\")\n",
    "display(button)\n",
    "\n",
    "def on_button_clicked(b):\n",
    "    char.move('right', world)\n",
    "    draw(char)\n",
    "\n",
    "button.on_click(on_button_clicked)"
   ]
  }
 ],
 "metadata": {
  "kernelspec": {
   "display_name": "Python 3",
   "language": "python",
   "name": "python3"
  },
  "language_info": {
   "codemirror_mode": {
    "name": "ipython",
    "version": 3
   },
   "file_extension": ".py",
   "mimetype": "text/x-python",
   "name": "python",
   "nbconvert_exporter": "python",
   "pygments_lexer": "ipython3",
   "version": "3.6.4"
  }
 },
 "nbformat": 4,
 "nbformat_minor": 2
}
